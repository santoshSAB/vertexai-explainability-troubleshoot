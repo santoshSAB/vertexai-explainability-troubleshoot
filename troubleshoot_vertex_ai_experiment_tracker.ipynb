{
 "cells": [
  {
   "cell_type": "markdown",
   "id": "8e6029a5-2f5a-4513-a550-e018154f65da",
   "metadata": {},
   "source": [
    "# Notebook to reproduce some problems with Vertex AI Experiment Service"
   ]
  },
  {
   "cell_type": "markdown",
   "id": "49d9007e-256d-49cf-8be4-7ff7f9659d2e",
   "metadata": {
    "tags": []
   },
   "source": [
    "Vertex AI experiment service - two issues.\n",
    "\n",
    "-  I created an experiment with the name 'test-experiment'. The experiment itself is created successsfully however, I do not see any description populated,even if I pass the description.\n",
    "-  I delete a run and create with the same name. I get an error. Looks like, it is not deleted from the dafult tensorboard assigned in the project."
   ]
  },
  {
   "cell_type": "code",
   "execution_count": 1,
   "id": "2cd804ed-7de0-4eb1-b63c-c3734056b100",
   "metadata": {
    "tags": []
   },
   "outputs": [],
   "source": [
    "# Import standard libraries\n",
    "from google.cloud import aiplatform\n",
    "from datetime import datetime"
   ]
  },
  {
   "cell_type": "code",
   "execution_count": 2,
   "id": "4bbdf623-bf0d-496a-8cf8-34188bdda0f7",
   "metadata": {
    "tags": []
   },
   "outputs": [],
   "source": [
    "# Set the static prameters\n",
    "PROJECT='motorway-appsbroker'\n",
    "REGION='europe-west2'\n",
    "STAGING_BUCKET='mo_ab_vertex_ai_dev_env'\n",
    "EXPERIMENT_NAME='test-experiment'\n",
    "RUN_NAME=f\"test-run-{datetime.now().strftime('%Y-%m-%d-%H-%M-%S')}\""
   ]
  },
  {
   "cell_type": "code",
   "execution_count": 3,
   "id": "df7f17b9-5098-44c5-91ac-29d9a9153e72",
   "metadata": {
    "tags": []
   },
   "outputs": [],
   "source": [
    "# Initialise the aiplatform instance\n",
    "aiplatform.init(project=PROJECT, \n",
    "                location=REGION,\n",
    "                staging_bucket=STAGING_BUCKET, \n",
    "                experiment=EXPERIMENT_NAME,\n",
    "                experiment_description= 'description for text experiment')"
   ]
  },
  {
   "cell_type": "markdown",
   "id": "7758c032-38f9-4241-aca6-ce9475e8bd39",
   "metadata": {},
   "source": [
    "\n",
    "![Screenshot from console](experiment_description.png \"Console screenshot\")"
   ]
  },
  {
   "cell_type": "code",
   "execution_count": 4,
   "id": "b49b8e99-5ead-4d7d-9d7c-c9e247e59ddd",
   "metadata": {
    "tags": []
   },
   "outputs": [
    {
     "name": "stdout",
     "output_type": "stream",
     "text": [
      "Associating projects/234586475385/locations/europe-west2/metadataStores/default/contexts/test-experiment-test-run-2023-08-29-23-16-09 to Experiment: test-experiment\n"
     ]
    }
   ],
   "source": [
    "# Now I create a run and log metrics\n",
    "metrics={'metric_1': 10, 'metric_2': 20}\n",
    "with aiplatform.start_run(RUN_NAME) as _run:\n",
    "    _run.log_metrics(metrics)\n",
    "            "
   ]
  },
  {
   "cell_type": "code",
   "execution_count": 5,
   "id": "ff0755f4-adcc-45d0-9315-e1015b5a1298",
   "metadata": {
    "tags": []
   },
   "outputs": [
    {
     "name": "stdout",
     "output_type": "stream",
     "text": [
      "Deleting Context : projects/234586475385/locations/europe-west2/metadataStores/default/contexts/test-experiment-test-run-2023-08-29-23-16-09\n",
      "Delete Context  backing LRO: projects/234586475385/locations/europe-west2/metadataStores/default/contexts/test-experiment-test-run-2023-08-29-23-16-09/operations/209062240416956416\n",
      "Context deleted. . Resource name: projects/234586475385/locations/europe-west2/metadataStores/default/contexts/test-experiment-test-run-2023-08-29-23-16-09\n"
     ]
    }
   ],
   "source": [
    "# Delete the above run\n",
    "run = aiplatform.ExperimentRun(RUN_NAME,\n",
    "                               experiment=EXPERIMENT_NAME,\n",
    "                                           project=PROJECT,\n",
    "                                           location=REGION)\n",
    "run.delete()"
   ]
  },
  {
   "cell_type": "code",
   "execution_count": 6,
   "id": "53b7a7e5-c7a9-49b3-a71d-78289262a146",
   "metadata": {
    "tags": []
   },
   "outputs": [
    {
     "ename": "ValueError",
     "evalue": "Experiment run test-run-2023-08-29-23-16-09 already associated to tensorboard resource projects/234586475385/locations/europe-west2/tensorboards/2398870489016565760/experiments/test-experiment/runs/test-run-2023-08-29-23-16-09",
     "output_type": "error",
     "traceback": [
      "\u001b[0;31m---------------------------------------------------------------------------\u001b[0m",
      "\u001b[0;31mValueError\u001b[0m                                Traceback (most recent call last)",
      "Cell \u001b[0;32mIn[6], line 3\u001b[0m\n\u001b[1;32m      1\u001b[0m \u001b[38;5;66;03m# Now I create a run and log metrics\u001b[39;00m\n\u001b[1;32m      2\u001b[0m metrics\u001b[38;5;241m=\u001b[39m{\u001b[38;5;124m'\u001b[39m\u001b[38;5;124mmetric_1\u001b[39m\u001b[38;5;124m'\u001b[39m: \u001b[38;5;241m10\u001b[39m, \u001b[38;5;124m'\u001b[39m\u001b[38;5;124mmetric_2\u001b[39m\u001b[38;5;124m'\u001b[39m: \u001b[38;5;241m20\u001b[39m}\n\u001b[0;32m----> 3\u001b[0m \u001b[38;5;28;01mwith\u001b[39;00m \u001b[43maiplatform\u001b[49m\u001b[38;5;241;43m.\u001b[39;49m\u001b[43mstart_run\u001b[49m\u001b[43m(\u001b[49m\u001b[43mRUN_NAME\u001b[49m\u001b[43m)\u001b[49m \u001b[38;5;28;01mas\u001b[39;00m _run:\n\u001b[1;32m      4\u001b[0m     _run\u001b[38;5;241m.\u001b[39mlog_metrics(metrics)\n",
      "File \u001b[0;32m~/opt/anaconda3/envs/mway/lib/python3.8/site-packages/google/cloud/aiplatform/metadata/metadata.py:437\u001b[0m, in \u001b[0;36m_ExperimentTracker.start_run\u001b[0;34m(self, run, tensorboard, resume)\u001b[0m\n\u001b[1;32m    432\u001b[0m     \u001b[38;5;28mself\u001b[39m\u001b[38;5;241m.\u001b[39m_experiment_run\u001b[38;5;241m.\u001b[39mupdate_state(\n\u001b[1;32m    433\u001b[0m         state\u001b[38;5;241m=\u001b[39mexecution_v1\u001b[38;5;241m.\u001b[39mExecution\u001b[38;5;241m.\u001b[39mState\u001b[38;5;241m.\u001b[39mRUNNING\n\u001b[1;32m    434\u001b[0m     )\n\u001b[1;32m    436\u001b[0m \u001b[38;5;28;01melse\u001b[39;00m:\n\u001b[0;32m--> 437\u001b[0m     \u001b[38;5;28mself\u001b[39m\u001b[38;5;241m.\u001b[39m_experiment_run \u001b[38;5;241m=\u001b[39m \u001b[43mexperiment_run_resource\u001b[49m\u001b[38;5;241;43m.\u001b[39;49m\u001b[43mExperimentRun\u001b[49m\u001b[38;5;241;43m.\u001b[39;49m\u001b[43mcreate\u001b[49m\u001b[43m(\u001b[49m\n\u001b[1;32m    438\u001b[0m \u001b[43m        \u001b[49m\u001b[43mrun_name\u001b[49m\u001b[38;5;241;43m=\u001b[39;49m\u001b[43mrun\u001b[49m\u001b[43m,\u001b[49m\u001b[43m \u001b[49m\u001b[43mexperiment\u001b[49m\u001b[38;5;241;43m=\u001b[39;49m\u001b[38;5;28;43mself\u001b[39;49m\u001b[38;5;241;43m.\u001b[39;49m\u001b[43mexperiment\u001b[49m\u001b[43m,\u001b[49m\u001b[43m \u001b[49m\u001b[43mtensorboard\u001b[49m\u001b[38;5;241;43m=\u001b[39;49m\u001b[43mtensorboard\u001b[49m\n\u001b[1;32m    439\u001b[0m \u001b[43m    \u001b[49m\u001b[43m)\u001b[49m\n\u001b[1;32m    441\u001b[0m \u001b[38;5;28;01mreturn\u001b[39;00m \u001b[38;5;28mself\u001b[39m\u001b[38;5;241m.\u001b[39m_experiment_run\n",
      "File \u001b[0;32m~/opt/anaconda3/envs/mway/lib/python3.8/site-packages/google/cloud/aiplatform/metadata/experiment_run_resource.py:765\u001b[0m, in \u001b[0;36mExperimentRun.create\u001b[0;34m(cls, run_name, experiment, tensorboard, state, project, location, credentials)\u001b[0m\n\u001b[1;32m    761\u001b[0m     \u001b[38;5;28mcls\u001b[39m\u001b[38;5;241m.\u001b[39m_assign_backing_tensorboard(\n\u001b[1;32m    762\u001b[0m         \u001b[38;5;28mself\u001b[39m\u001b[38;5;241m=\u001b[39mexperiment_run, tensorboard\u001b[38;5;241m=\u001b[39mtensorboard\n\u001b[1;32m    763\u001b[0m     )\n\u001b[1;32m    764\u001b[0m \u001b[38;5;28;01melse\u001b[39;00m:\n\u001b[0;32m--> 765\u001b[0m     \u001b[38;5;28;43mcls\u001b[39;49m\u001b[38;5;241;43m.\u001b[39;49m\u001b[43m_assign_to_experiment_backing_tensorboard\u001b[49m\u001b[43m(\u001b[49m\u001b[38;5;28;43mself\u001b[39;49m\u001b[38;5;241;43m=\u001b[39;49m\u001b[43mexperiment_run\u001b[49m\u001b[43m)\u001b[49m\n\u001b[1;32m    767\u001b[0m experiment_run\u001b[38;5;241m.\u001b[39m_associate_to_experiment(experiment)\n\u001b[1;32m    768\u001b[0m \u001b[38;5;28;01mreturn\u001b[39;00m experiment_run\n",
      "File \u001b[0;32m~/opt/anaconda3/envs/mway/lib/python3.8/site-packages/google/cloud/aiplatform/metadata/experiment_run_resource.py:777\u001b[0m, in \u001b[0;36mExperimentRun._assign_to_experiment_backing_tensorboard\u001b[0;34m(self)\u001b[0m\n\u001b[1;32m    772\u001b[0m backing_tensorboard_resource \u001b[38;5;241m=\u001b[39m (\n\u001b[1;32m    773\u001b[0m     \u001b[38;5;28mself\u001b[39m\u001b[38;5;241m.\u001b[39m_experiment\u001b[38;5;241m.\u001b[39mget_backing_tensorboard_resource()\n\u001b[1;32m    774\u001b[0m )\n\u001b[1;32m    776\u001b[0m \u001b[38;5;28;01mif\u001b[39;00m backing_tensorboard_resource:\n\u001b[0;32m--> 777\u001b[0m     \u001b[38;5;28;43mself\u001b[39;49m\u001b[38;5;241;43m.\u001b[39;49m\u001b[43massign_backing_tensorboard\u001b[49m\u001b[43m(\u001b[49m\u001b[43mtensorboard\u001b[49m\u001b[38;5;241;43m=\u001b[39;49m\u001b[43mbacking_tensorboard_resource\u001b[49m\u001b[43m)\u001b[49m\n",
      "File \u001b[0;32m~/opt/anaconda3/envs/mway/lib/python3.8/site-packages/google/cloud/aiplatform/metadata/experiment_run_resource.py:81\u001b[0m, in \u001b[0;36m_v1_not_supported.<locals>.wrapper\u001b[0;34m(self, *args, **kwargs)\u001b[0m\n\u001b[1;32m     76\u001b[0m     \u001b[38;5;28;01mraise\u001b[39;00m \u001b[38;5;167;01mNotImplementedError\u001b[39;00m(\n\u001b[1;32m     77\u001b[0m         \u001b[38;5;124mf\u001b[39m\u001b[38;5;124m\"\u001b[39m\u001b[38;5;132;01m{\u001b[39;00m\u001b[38;5;28mself\u001b[39m\u001b[38;5;241m.\u001b[39m_run_name\u001b[38;5;132;01m}\u001b[39;00m\u001b[38;5;124m is an Execution run created during Vertex Experiment Preview and does not support\u001b[39m\u001b[38;5;124m\"\u001b[39m\n\u001b[1;32m     78\u001b[0m         \u001b[38;5;124mf\u001b[39m\u001b[38;5;124m\"\u001b[39m\u001b[38;5;124m \u001b[39m\u001b[38;5;132;01m{\u001b[39;00mmethod\u001b[38;5;241m.\u001b[39m\u001b[38;5;18m__name__\u001b[39m\u001b[38;5;132;01m}\u001b[39;00m\u001b[38;5;124m. Please create a new Experiment run to use this method.\u001b[39m\u001b[38;5;124m\"\u001b[39m\n\u001b[1;32m     79\u001b[0m     )\n\u001b[1;32m     80\u001b[0m \u001b[38;5;28;01melse\u001b[39;00m:\n\u001b[0;32m---> 81\u001b[0m     \u001b[38;5;28;01mreturn\u001b[39;00m \u001b[43mmethod\u001b[49m\u001b[43m(\u001b[49m\u001b[38;5;28;43mself\u001b[39;49m\u001b[43m,\u001b[49m\u001b[43m \u001b[49m\u001b[38;5;241;43m*\u001b[39;49m\u001b[43margs\u001b[49m\u001b[43m,\u001b[49m\u001b[43m \u001b[49m\u001b[38;5;241;43m*\u001b[39;49m\u001b[38;5;241;43m*\u001b[39;49m\u001b[43mkwargs\u001b[49m\u001b[43m)\u001b[49m\n",
      "File \u001b[0;32m~/opt/anaconda3/envs/mway/lib/python3.8/site-packages/google/cloud/aiplatform/metadata/experiment_run_resource.py:901\u001b[0m, in \u001b[0;36mExperimentRun.assign_backing_tensorboard\u001b[0;34m(self, tensorboard)\u001b[0m\n\u001b[1;32m    899\u001b[0m backing_tensorboard \u001b[38;5;241m=\u001b[39m \u001b[38;5;28mself\u001b[39m\u001b[38;5;241m.\u001b[39m_lookup_tensorboard_run_artifact()\n\u001b[1;32m    900\u001b[0m \u001b[38;5;28;01mif\u001b[39;00m backing_tensorboard:\n\u001b[0;32m--> 901\u001b[0m     \u001b[38;5;28;01mraise\u001b[39;00m \u001b[38;5;167;01mValueError\u001b[39;00m(\n\u001b[1;32m    902\u001b[0m         \u001b[38;5;124mf\u001b[39m\u001b[38;5;124m\"\u001b[39m\u001b[38;5;124mExperiment run \u001b[39m\u001b[38;5;132;01m{\u001b[39;00m\u001b[38;5;28mself\u001b[39m\u001b[38;5;241m.\u001b[39m_run_name\u001b[38;5;132;01m}\u001b[39;00m\u001b[38;5;124m already associated to tensorboard resource \u001b[39m\u001b[38;5;132;01m{\u001b[39;00mbacking_tensorboard\u001b[38;5;241m.\u001b[39mresource\u001b[38;5;241m.\u001b[39mresource_name\u001b[38;5;132;01m}\u001b[39;00m\u001b[38;5;124m\"\u001b[39m\n\u001b[1;32m    903\u001b[0m     )\n\u001b[1;32m    905\u001b[0m \u001b[38;5;28mself\u001b[39m\u001b[38;5;241m.\u001b[39m_assign_backing_tensorboard(tensorboard\u001b[38;5;241m=\u001b[39mtensorboard)\n",
      "\u001b[0;31mValueError\u001b[0m: Experiment run test-run-2023-08-29-23-16-09 already associated to tensorboard resource projects/234586475385/locations/europe-west2/tensorboards/2398870489016565760/experiments/test-experiment/runs/test-run-2023-08-29-23-16-09"
     ]
    }
   ],
   "source": [
    "# Now I create a run with the same name (after deleting from experiment) and log metrics. It failes with error.\n",
    "metrics={'metric_1': 10, 'metric_2': 20}\n",
    "with aiplatform.start_run(RUN_NAME) as _run:\n",
    "    _run.log_metrics(metrics)\n",
    "            "
   ]
  },
  {
   "cell_type": "code",
   "execution_count": null,
   "id": "2ff7bf74-e351-4f58-82ca-be19b2f2fbe8",
   "metadata": {},
   "outputs": [],
   "source": []
  }
 ],
 "metadata": {
  "kernelspec": {
   "display_name": "Python 3 (ipykernel)",
   "language": "python",
   "name": "python3"
  },
  "language_info": {
   "codemirror_mode": {
    "name": "ipython",
    "version": 3
   },
   "file_extension": ".py",
   "mimetype": "text/x-python",
   "name": "python",
   "nbconvert_exporter": "python",
   "pygments_lexer": "ipython3",
   "version": "3.8.17"
  }
 },
 "nbformat": 4,
 "nbformat_minor": 5
}
